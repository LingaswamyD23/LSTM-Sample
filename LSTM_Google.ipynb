{
 "cells": [
  {
   "cell_type": "markdown",
   "metadata": {},
   "source": [
    "# LSTM for Google stock prediction"
   ]
  },
  {
   "cell_type": "markdown",
   "metadata": {},
   "source": [
    "Importing packages"
   ]
  },
  {
   "cell_type": "code",
   "execution_count": 1,
   "metadata": {},
   "outputs": [],
   "source": [
    "import numpy as np\n",
    "import matplotlib.pyplot as plt\n",
    "import pandas as pd\n",
    "from sklearn.preprocessing import MinMaxScaler\n",
    "\n",
    "from tensorflow.keras import Model\n",
    "from tensorflow.keras.layers import Dense, LSTM, Dropout, Input"
   ]
  },
  {
   "cell_type": "markdown",
   "metadata": {},
   "source": [
    "Loading_dataset"
   ]
  },
  {
   "cell_type": "code",
   "execution_count": 32,
   "metadata": {
    "scrolled": true
   },
   "outputs": [
    {
     "data": {
      "text/html": [
       "<div>\n",
       "<style scoped>\n",
       "    .dataframe tbody tr th:only-of-type {\n",
       "        vertical-align: middle;\n",
       "    }\n",
       "\n",
       "    .dataframe tbody tr th {\n",
       "        vertical-align: top;\n",
       "    }\n",
       "\n",
       "    .dataframe thead th {\n",
       "        text-align: right;\n",
       "    }\n",
       "</style>\n",
       "<table border=\"1\" class=\"dataframe\">\n",
       "  <thead>\n",
       "    <tr style=\"text-align: right;\">\n",
       "      <th></th>\n",
       "      <th>Date</th>\n",
       "      <th>Open</th>\n",
       "      <th>High</th>\n",
       "      <th>Low</th>\n",
       "      <th>Close</th>\n",
       "      <th>Adj Close</th>\n",
       "      <th>Volume</th>\n",
       "    </tr>\n",
       "  </thead>\n",
       "  <tbody>\n",
       "    <tr>\n",
       "      <th>2914</th>\n",
       "      <td>2021-08-02</td>\n",
       "      <td>2709.689941</td>\n",
       "      <td>2720.409912</td>\n",
       "      <td>2693.389893</td>\n",
       "      <td>2719.790039</td>\n",
       "      <td>2719.790039</td>\n",
       "      <td>1007000</td>\n",
       "    </tr>\n",
       "    <tr>\n",
       "      <th>2915</th>\n",
       "      <td>2021-08-03</td>\n",
       "      <td>2720.000000</td>\n",
       "      <td>2726.709961</td>\n",
       "      <td>2683.669922</td>\n",
       "      <td>2725.600098</td>\n",
       "      <td>2725.600098</td>\n",
       "      <td>952600</td>\n",
       "    </tr>\n",
       "    <tr>\n",
       "      <th>2916</th>\n",
       "      <td>2021-08-04</td>\n",
       "      <td>2724.989990</td>\n",
       "      <td>2730.760010</td>\n",
       "      <td>2708.300049</td>\n",
       "      <td>2720.570068</td>\n",
       "      <td>2720.570068</td>\n",
       "      <td>826400</td>\n",
       "    </tr>\n",
       "    <tr>\n",
       "      <th>2917</th>\n",
       "      <td>2021-08-05</td>\n",
       "      <td>2720.570068</td>\n",
       "      <td>2739.000000</td>\n",
       "      <td>2712.000000</td>\n",
       "      <td>2738.800049</td>\n",
       "      <td>2738.800049</td>\n",
       "      <td>593300</td>\n",
       "    </tr>\n",
       "    <tr>\n",
       "      <th>2918</th>\n",
       "      <td>2021-08-06</td>\n",
       "      <td>2725.899902</td>\n",
       "      <td>2741.601074</td>\n",
       "      <td>2720.929932</td>\n",
       "      <td>2740.719971</td>\n",
       "      <td>2740.719971</td>\n",
       "      <td>678000</td>\n",
       "    </tr>\n",
       "  </tbody>\n",
       "</table>\n",
       "</div>"
      ],
      "text/plain": [
       "            Date         Open         High          Low        Close  \\\n",
       "2914  2021-08-02  2709.689941  2720.409912  2693.389893  2719.790039   \n",
       "2915  2021-08-03  2720.000000  2726.709961  2683.669922  2725.600098   \n",
       "2916  2021-08-04  2724.989990  2730.760010  2708.300049  2720.570068   \n",
       "2917  2021-08-05  2720.570068  2739.000000  2712.000000  2738.800049   \n",
       "2918  2021-08-06  2725.899902  2741.601074  2720.929932  2740.719971   \n",
       "\n",
       "        Adj Close   Volume  \n",
       "2914  2719.790039  1007000  \n",
       "2915  2725.600098   952600  \n",
       "2916  2720.570068   826400  \n",
       "2917  2738.800049   593300  \n",
       "2918  2740.719971   678000  "
      ]
     },
     "execution_count": 32,
     "metadata": {},
     "output_type": "execute_result"
    }
   ],
   "source": [
    "data_set = pd.read_csv('GOOG_dataset.csv', date_parser = True)\n",
    "data_set.tail()"
   ]
  },
  {
   "cell_type": "code",
   "execution_count": 33,
   "metadata": {},
   "outputs": [],
   "source": [
    "data_train = data_set[data_set['Date']<'2020-10-01'].copy()\n",
    "data_test = data_set[data_set['Date']>='2020-10-01'].copy()"
   ]
  },
  {
   "cell_type": "code",
   "execution_count": 34,
   "metadata": {},
   "outputs": [
    {
     "data": {
      "text/plain": [
       "(2705, 7)"
      ]
     },
     "execution_count": 34,
     "metadata": {},
     "output_type": "execute_result"
    }
   ],
   "source": [
    "data_train.shape"
   ]
  },
  {
   "cell_type": "code",
   "execution_count": 35,
   "metadata": {},
   "outputs": [
    {
     "data": {
      "text/plain": [
       "(214, 7)"
      ]
     },
     "execution_count": 35,
     "metadata": {},
     "output_type": "execute_result"
    }
   ],
   "source": [
    "data_test.shape"
   ]
  },
  {
   "cell_type": "code",
   "execution_count": 36,
   "metadata": {},
   "outputs": [],
   "source": [
    "data_training = data_train.drop(['Date', 'Adj Close'], axis = 1)"
   ]
  },
  {
   "cell_type": "code",
   "execution_count": 37,
   "metadata": {},
   "outputs": [
    {
     "data": {
      "text/html": [
       "<div>\n",
       "<style scoped>\n",
       "    .dataframe tbody tr th:only-of-type {\n",
       "        vertical-align: middle;\n",
       "    }\n",
       "\n",
       "    .dataframe tbody tr th {\n",
       "        vertical-align: top;\n",
       "    }\n",
       "\n",
       "    .dataframe thead th {\n",
       "        text-align: right;\n",
       "    }\n",
       "</style>\n",
       "<table border=\"1\" class=\"dataframe\">\n",
       "  <thead>\n",
       "    <tr style=\"text-align: right;\">\n",
       "      <th></th>\n",
       "      <th>Date</th>\n",
       "      <th>Open</th>\n",
       "      <th>High</th>\n",
       "      <th>Low</th>\n",
       "      <th>Close</th>\n",
       "      <th>Adj Close</th>\n",
       "      <th>Volume</th>\n",
       "    </tr>\n",
       "  </thead>\n",
       "  <tbody>\n",
       "    <tr>\n",
       "      <th>0</th>\n",
       "      <td>2010-01-04</td>\n",
       "      <td>312.304413</td>\n",
       "      <td>313.579620</td>\n",
       "      <td>310.954468</td>\n",
       "      <td>312.204773</td>\n",
       "      <td>312.204773</td>\n",
       "      <td>3927065</td>\n",
       "    </tr>\n",
       "    <tr>\n",
       "      <th>1</th>\n",
       "      <td>2010-01-05</td>\n",
       "      <td>312.418976</td>\n",
       "      <td>312.747742</td>\n",
       "      <td>309.609497</td>\n",
       "      <td>310.829926</td>\n",
       "      <td>310.829926</td>\n",
       "      <td>6031925</td>\n",
       "    </tr>\n",
       "    <tr>\n",
       "      <th>2</th>\n",
       "      <td>2010-01-06</td>\n",
       "      <td>311.761444</td>\n",
       "      <td>311.761444</td>\n",
       "      <td>302.047852</td>\n",
       "      <td>302.994293</td>\n",
       "      <td>302.994293</td>\n",
       "      <td>7987226</td>\n",
       "    </tr>\n",
       "    <tr>\n",
       "      <th>3</th>\n",
       "      <td>2010-01-07</td>\n",
       "      <td>303.562164</td>\n",
       "      <td>303.861053</td>\n",
       "      <td>295.218445</td>\n",
       "      <td>295.940735</td>\n",
       "      <td>295.940735</td>\n",
       "      <td>12876685</td>\n",
       "    </tr>\n",
       "    <tr>\n",
       "      <th>4</th>\n",
       "      <td>2010-01-08</td>\n",
       "      <td>294.894653</td>\n",
       "      <td>300.498657</td>\n",
       "      <td>293.455048</td>\n",
       "      <td>299.885956</td>\n",
       "      <td>299.885956</td>\n",
       "      <td>9484016</td>\n",
       "    </tr>\n",
       "  </tbody>\n",
       "</table>\n",
       "</div>"
      ],
      "text/plain": [
       "         Date        Open        High         Low       Close   Adj Close  \\\n",
       "0  2010-01-04  312.304413  313.579620  310.954468  312.204773  312.204773   \n",
       "1  2010-01-05  312.418976  312.747742  309.609497  310.829926  310.829926   \n",
       "2  2010-01-06  311.761444  311.761444  302.047852  302.994293  302.994293   \n",
       "3  2010-01-07  303.562164  303.861053  295.218445  295.940735  295.940735   \n",
       "4  2010-01-08  294.894653  300.498657  293.455048  299.885956  299.885956   \n",
       "\n",
       "     Volume  \n",
       "0   3927065  \n",
       "1   6031925  \n",
       "2   7987226  \n",
       "3  12876685  \n",
       "4   9484016  "
      ]
     },
     "execution_count": 37,
     "metadata": {},
     "output_type": "execute_result"
    }
   ],
   "source": [
    "data_train.head()"
   ]
  },
  {
   "cell_type": "code",
   "execution_count": 38,
   "metadata": {},
   "outputs": [
    {
     "data": {
      "text/html": [
       "<div>\n",
       "<style scoped>\n",
       "    .dataframe tbody tr th:only-of-type {\n",
       "        vertical-align: middle;\n",
       "    }\n",
       "\n",
       "    .dataframe tbody tr th {\n",
       "        vertical-align: top;\n",
       "    }\n",
       "\n",
       "    .dataframe thead th {\n",
       "        text-align: right;\n",
       "    }\n",
       "</style>\n",
       "<table border=\"1\" class=\"dataframe\">\n",
       "  <thead>\n",
       "    <tr style=\"text-align: right;\">\n",
       "      <th></th>\n",
       "      <th>Date</th>\n",
       "      <th>Open</th>\n",
       "      <th>High</th>\n",
       "      <th>Low</th>\n",
       "      <th>Close</th>\n",
       "      <th>Adj Close</th>\n",
       "      <th>Volume</th>\n",
       "    </tr>\n",
       "  </thead>\n",
       "  <tbody>\n",
       "    <tr>\n",
       "      <th>2705</th>\n",
       "      <td>2020-10-01</td>\n",
       "      <td>1484.270020</td>\n",
       "      <td>1499.040039</td>\n",
       "      <td>1479.209961</td>\n",
       "      <td>1490.089966</td>\n",
       "      <td>1490.089966</td>\n",
       "      <td>1779500</td>\n",
       "    </tr>\n",
       "    <tr>\n",
       "      <th>2706</th>\n",
       "      <td>2020-10-02</td>\n",
       "      <td>1462.030029</td>\n",
       "      <td>1483.199951</td>\n",
       "      <td>1450.920044</td>\n",
       "      <td>1458.420044</td>\n",
       "      <td>1458.420044</td>\n",
       "      <td>1284100</td>\n",
       "    </tr>\n",
       "    <tr>\n",
       "      <th>2707</th>\n",
       "      <td>2020-10-05</td>\n",
       "      <td>1466.209961</td>\n",
       "      <td>1488.209961</td>\n",
       "      <td>1464.270020</td>\n",
       "      <td>1486.020020</td>\n",
       "      <td>1486.020020</td>\n",
       "      <td>1113300</td>\n",
       "    </tr>\n",
       "    <tr>\n",
       "      <th>2708</th>\n",
       "      <td>2020-10-06</td>\n",
       "      <td>1475.579956</td>\n",
       "      <td>1486.760010</td>\n",
       "      <td>1448.589966</td>\n",
       "      <td>1453.439941</td>\n",
       "      <td>1453.439941</td>\n",
       "      <td>1245400</td>\n",
       "    </tr>\n",
       "    <tr>\n",
       "      <th>2709</th>\n",
       "      <td>2020-10-07</td>\n",
       "      <td>1464.290039</td>\n",
       "      <td>1468.959961</td>\n",
       "      <td>1436.000000</td>\n",
       "      <td>1460.290039</td>\n",
       "      <td>1460.290039</td>\n",
       "      <td>1746200</td>\n",
       "    </tr>\n",
       "  </tbody>\n",
       "</table>\n",
       "</div>"
      ],
      "text/plain": [
       "            Date         Open         High          Low        Close  \\\n",
       "2705  2020-10-01  1484.270020  1499.040039  1479.209961  1490.089966   \n",
       "2706  2020-10-02  1462.030029  1483.199951  1450.920044  1458.420044   \n",
       "2707  2020-10-05  1466.209961  1488.209961  1464.270020  1486.020020   \n",
       "2708  2020-10-06  1475.579956  1486.760010  1448.589966  1453.439941   \n",
       "2709  2020-10-07  1464.290039  1468.959961  1436.000000  1460.290039   \n",
       "\n",
       "        Adj Close   Volume  \n",
       "2705  1490.089966  1779500  \n",
       "2706  1458.420044  1284100  \n",
       "2707  1486.020020  1113300  \n",
       "2708  1453.439941  1245400  \n",
       "2709  1460.290039  1746200  "
      ]
     },
     "execution_count": 38,
     "metadata": {},
     "output_type": "execute_result"
    }
   ],
   "source": [
    "data_test.head()"
   ]
  },
  {
   "cell_type": "markdown",
   "metadata": {},
   "source": [
    "# Applying minmaxscalar"
   ]
  },
  {
   "cell_type": "code",
   "execution_count": 39,
   "metadata": {
    "scrolled": true
   },
   "outputs": [
    {
     "data": {
      "text/plain": [
       "array([[0.06300739, 0.06164817, 0.06546749, 0.06285919, 0.13172345],\n",
       "       [0.0630842 , 0.0610983 , 0.06454013, 0.06194934, 0.20246836],\n",
       "       [0.06264331, 0.06044636, 0.05932637, 0.05676381, 0.26818655],\n",
       "       ...,\n",
       "       [0.84208958, 0.83053355, 0.85035837, 0.82544694, 0.0672198 ],\n",
       "       [0.83952822, 0.83044294, 0.85691141, 0.8286301 , 0.0326113 ],\n",
       "       [0.83712108, 0.83909343, 0.85765259, 0.82880879, 0.05692497]])"
      ]
     },
     "execution_count": 39,
     "metadata": {},
     "output_type": "execute_result"
    }
   ],
   "source": [
    "scaler = MinMaxScaler()\n",
    "data_training = scaler.fit_transform(data_training)\n",
    "data_training"
   ]
  },
  {
   "cell_type": "code",
   "execution_count": 40,
   "metadata": {},
   "outputs": [
    {
     "data": {
      "text/plain": [
       "array([[0.06300739, 0.06164817, 0.06546749, 0.06285919, 0.13172345],\n",
       "       [0.0630842 , 0.0610983 , 0.06454013, 0.06194934, 0.20246836],\n",
       "       [0.06264331, 0.06044636, 0.05932637, 0.05676381, 0.26818655],\n",
       "       [0.05714552, 0.05522423, 0.05461749, 0.05209586, 0.43252258],\n",
       "       [0.05133377, 0.05300169, 0.05340163, 0.05470675, 0.31849406],\n",
       "       [0.05549554, 0.05340011, 0.05509491, 0.05440676, 0.48640609],\n",
       "       [0.05322092, 0.05132574, 0.05302039, 0.05090251, 0.32719801],\n",
       "       [0.0461533 , 0.04810554, 0.04817755, 0.04978495, 0.43807557],\n",
       "       [0.0486283 , 0.05002186, 0.05123782, 0.05069481, 0.28582387],\n",
       "       [0.05178135, 0.04981112, 0.0495995 , 0.04744767, 0.36641303]])"
      ]
     },
     "execution_count": 40,
     "metadata": {},
     "output_type": "execute_result"
    }
   ],
   "source": [
    "data_training[0:10]"
   ]
  },
  {
   "cell_type": "markdown",
   "metadata": {},
   "source": [
    "# Splitting Train and Test data"
   ]
  },
  {
   "cell_type": "code",
   "execution_count": 41,
   "metadata": {},
   "outputs": [],
   "source": [
    "X_train = []\n",
    "y_train = []"
   ]
  },
  {
   "cell_type": "code",
   "execution_count": 42,
   "metadata": {},
   "outputs": [],
   "source": [
    "for i in range(60, data_training.shape[0]):\n",
    "    X_train.append(data_training[i-60:i])\n",
    "    y_train.append(data_training[i, 0])"
   ]
  },
  {
   "cell_type": "code",
   "execution_count": 43,
   "metadata": {},
   "outputs": [],
   "source": [
    "X_train, y_train = np.array(X_train), np.array(y_train)"
   ]
  },
  {
   "cell_type": "code",
   "execution_count": 44,
   "metadata": {
    "scrolled": true
   },
   "outputs": [
    {
     "data": {
      "text/plain": [
       "(2645, 60, 5)"
      ]
     },
     "execution_count": 44,
     "metadata": {},
     "output_type": "execute_result"
    }
   ],
   "source": [
    "X_train.shape"
   ]
  },
  {
   "cell_type": "code",
   "execution_count": 45,
   "metadata": {},
   "outputs": [
    {
     "data": {
      "text/plain": [
       "(214, 7)"
      ]
     },
     "execution_count": 45,
     "metadata": {},
     "output_type": "execute_result"
    }
   ],
   "source": [
    "data_test.shape"
   ]
  },
  {
   "cell_type": "code",
   "execution_count": 46,
   "metadata": {},
   "outputs": [
    {
     "data": {
      "text/html": [
       "<div>\n",
       "<style scoped>\n",
       "    .dataframe tbody tr th:only-of-type {\n",
       "        vertical-align: middle;\n",
       "    }\n",
       "\n",
       "    .dataframe tbody tr th {\n",
       "        vertical-align: top;\n",
       "    }\n",
       "\n",
       "    .dataframe thead th {\n",
       "        text-align: right;\n",
       "    }\n",
       "</style>\n",
       "<table border=\"1\" class=\"dataframe\">\n",
       "  <thead>\n",
       "    <tr style=\"text-align: right;\">\n",
       "      <th></th>\n",
       "      <th>Open</th>\n",
       "      <th>High</th>\n",
       "      <th>Low</th>\n",
       "      <th>Close</th>\n",
       "      <th>Volume</th>\n",
       "    </tr>\n",
       "  </thead>\n",
       "  <tbody>\n",
       "    <tr>\n",
       "      <th>0</th>\n",
       "      <td>1494.319946</td>\n",
       "      <td>1505.880005</td>\n",
       "      <td>1485.630005</td>\n",
       "      <td>1496.000000</td>\n",
       "      <td>1249700</td>\n",
       "    </tr>\n",
       "    <tr>\n",
       "      <th>1</th>\n",
       "      <td>1506.449951</td>\n",
       "      <td>1522.719971</td>\n",
       "      <td>1488.084961</td>\n",
       "      <td>1510.989990</td>\n",
       "      <td>1423300</td>\n",
       "    </tr>\n",
       "    <tr>\n",
       "      <th>2</th>\n",
       "      <td>1506.150024</td>\n",
       "      <td>1543.829956</td>\n",
       "      <td>1496.540039</td>\n",
       "      <td>1541.739990</td>\n",
       "      <td>1856300</td>\n",
       "    </tr>\n",
       "    <tr>\n",
       "      <th>3</th>\n",
       "      <td>1550.000000</td>\n",
       "      <td>1577.131958</td>\n",
       "      <td>1505.243042</td>\n",
       "      <td>1511.339966</td>\n",
       "      <td>1846400</td>\n",
       "    </tr>\n",
       "    <tr>\n",
       "      <th>4</th>\n",
       "      <td>1490.310059</td>\n",
       "      <td>1522.949951</td>\n",
       "      <td>1483.500000</td>\n",
       "      <td>1520.579956</td>\n",
       "      <td>1585000</td>\n",
       "    </tr>\n",
       "  </tbody>\n",
       "</table>\n",
       "</div>"
      ],
      "text/plain": [
       "          Open         High          Low        Close   Volume\n",
       "0  1494.319946  1505.880005  1485.630005  1496.000000  1249700\n",
       "1  1506.449951  1522.719971  1488.084961  1510.989990  1423300\n",
       "2  1506.150024  1543.829956  1496.540039  1541.739990  1856300\n",
       "3  1550.000000  1577.131958  1505.243042  1511.339966  1846400\n",
       "4  1490.310059  1522.949951  1483.500000  1520.579956  1585000"
      ]
     },
     "execution_count": 46,
     "metadata": {},
     "output_type": "execute_result"
    }
   ],
   "source": [
    "past_60_days_data=data_train.tail(60)\n",
    "df = past_60_days_data.append(data_test, ignore_index = True)\n",
    "df = df.drop(['Date', 'Adj Close'], axis = 1)\n",
    "df.head()"
   ]
  },
  {
   "cell_type": "code",
   "execution_count": 47,
   "metadata": {},
   "outputs": [
    {
     "data": {
      "text/plain": [
       "array([[0.85557375, 0.84975532, 0.87540724, 0.84628   , 0.04173649],\n",
       "       [0.86370717, 0.86088649, 0.87709993, 0.85620018, 0.04757123],\n",
       "       [0.86350607, 0.87484013, 0.88292971, 0.87655015, 0.06212448],\n",
       "       ...,\n",
       "       [1.68076399, 1.6593975 , 1.71843923, 1.65668508, 0.02750927],\n",
       "       [1.67780034, 1.66484411, 1.72099035, 1.66874945, 0.01967471],\n",
       "       [1.6813741 , 1.66656341, 1.72714755, 1.67002003, 0.0225215 ]])"
      ]
     },
     "execution_count": 47,
     "metadata": {},
     "output_type": "execute_result"
    }
   ],
   "source": [
    "inputs = scaler.transform(df)\n",
    "inputs"
   ]
  },
  {
   "cell_type": "code",
   "execution_count": 48,
   "metadata": {},
   "outputs": [],
   "source": [
    "X_test = []\n",
    "y_test = []\n",
    "\n",
    "for i in range(60, inputs.shape[0]):\n",
    "    X_test.append(inputs[i-60:i])\n",
    "    y_test.append(inputs[i, 0])"
   ]
  },
  {
   "cell_type": "code",
   "execution_count": 49,
   "metadata": {},
   "outputs": [
    {
     "data": {
      "text/plain": [
       "((214, 60, 5), (214,))"
      ]
     },
     "execution_count": 49,
     "metadata": {},
     "output_type": "execute_result"
    }
   ],
   "source": [
    "X_test, y_test = np.array(X_test), np.array(y_test)\n",
    "X_test.shape, y_test.shape"
   ]
  },
  {
   "cell_type": "markdown",
   "metadata": {},
   "source": [
    "# Model"
   ]
  },
  {
   "cell_type": "code",
   "execution_count": null,
   "metadata": {},
   "outputs": [],
   "source": []
  },
  {
   "cell_type": "code",
   "execution_count": 50,
   "metadata": {},
   "outputs": [
    {
     "name": "stdout",
     "output_type": "stream",
     "text": [
      "WARNING:tensorflow:Layer lstm_4 will not use cuDNN kernels since it doesn't meet the criteria. It will use a generic GPU kernel as fallback when running on GPU.\n",
      "WARNING:tensorflow:Layer lstm_5 will not use cuDNN kernels since it doesn't meet the criteria. It will use a generic GPU kernel as fallback when running on GPU.\n",
      "WARNING:tensorflow:Layer lstm_6 will not use cuDNN kernels since it doesn't meet the criteria. It will use a generic GPU kernel as fallback when running on GPU.\n",
      "WARNING:tensorflow:Layer lstm_7 will not use cuDNN kernels since it doesn't meet the criteria. It will use a generic GPU kernel as fallback when running on GPU.\n"
     ]
    }
   ],
   "source": [
    "#input\n",
    "inp=Input(shape = (X_train.shape[1], 5))\n",
    "#layer_#1\n",
    "x=LSTM(units = 60, activation = 'relu', return_sequences = True)(inp)\n",
    "x=Dropout(0.2)(x)\n",
    "#layer#2\n",
    "x=LSTM(units = 60, activation = 'relu', return_sequences = True)(x)\n",
    "x=Dropout(0.2)(x)\n",
    "#layer#3\n",
    "x=LSTM(units = 80, activation = 'relu', return_sequences = True)(x)\n",
    "x=Dropout(0.2)(x)\n",
    "#layer#4\n",
    "x=LSTM(units = 120, activation = 'relu')(x)\n",
    "x=Dropout(0.2)(x)\n",
    "#output\n",
    "out=Dense(units = 1)(x)\n",
    "\n",
    "model = Model(inputs=inp, outputs=out, name='lstm_model')"
   ]
  },
  {
   "cell_type": "code",
   "execution_count": 51,
   "metadata": {},
   "outputs": [
    {
     "name": "stdout",
     "output_type": "stream",
     "text": [
      "Model: \"lstm_model\"\n",
      "_________________________________________________________________\n",
      "Layer (type)                 Output Shape              Param #   \n",
      "=================================================================\n",
      "input_2 (InputLayer)         [(None, 60, 5)]           0         \n",
      "_________________________________________________________________\n",
      "lstm_4 (LSTM)                (None, 60, 60)            15840     \n",
      "_________________________________________________________________\n",
      "dropout_4 (Dropout)          (None, 60, 60)            0         \n",
      "_________________________________________________________________\n",
      "lstm_5 (LSTM)                (None, 60, 60)            29040     \n",
      "_________________________________________________________________\n",
      "dropout_5 (Dropout)          (None, 60, 60)            0         \n",
      "_________________________________________________________________\n",
      "lstm_6 (LSTM)                (None, 60, 80)            45120     \n",
      "_________________________________________________________________\n",
      "dropout_6 (Dropout)          (None, 60, 80)            0         \n",
      "_________________________________________________________________\n",
      "lstm_7 (LSTM)                (None, 120)               96480     \n",
      "_________________________________________________________________\n",
      "dropout_7 (Dropout)          (None, 120)               0         \n",
      "_________________________________________________________________\n",
      "dense_1 (Dense)              (None, 1)                 121       \n",
      "=================================================================\n",
      "Total params: 186,601\n",
      "Trainable params: 186,601\n",
      "Non-trainable params: 0\n",
      "_________________________________________________________________\n"
     ]
    }
   ],
   "source": [
    "model.summary()"
   ]
  },
  {
   "cell_type": "code",
   "execution_count": 52,
   "metadata": {},
   "outputs": [
    {
     "name": "stdout",
     "output_type": "stream",
     "text": [
      "Epoch 1/100\n",
      "83/83 [==============================] - 16s 169ms/step - loss: 0.0146\n",
      "Epoch 2/100\n",
      "83/83 [==============================] - 15s 181ms/step - loss: 0.0029\n",
      "Epoch 3/100\n",
      "83/83 [==============================] - 15s 186ms/step - loss: 0.0022\n",
      "Epoch 4/100\n",
      "83/83 [==============================] - 16s 191ms/step - loss: 0.0021\n",
      "Epoch 5/100\n",
      "83/83 [==============================] - 16s 194ms/step - loss: 0.0021\n",
      "Epoch 6/100\n",
      "83/83 [==============================] - 16s 196ms/step - loss: 0.0023\n",
      "Epoch 7/100\n",
      "83/83 [==============================] - 16s 192ms/step - loss: 0.0019\n",
      "Epoch 8/100\n",
      "83/83 [==============================] - 16s 192ms/step - loss: 0.0020\n",
      "Epoch 9/100\n",
      "83/83 [==============================] - 16s 194ms/step - loss: 0.0017\n",
      "Epoch 10/100\n",
      "83/83 [==============================] - 16s 193ms/step - loss: 0.0015\n",
      "Epoch 11/100\n",
      "83/83 [==============================] - 16s 195ms/step - loss: 0.0016\n",
      "Epoch 12/100\n",
      "83/83 [==============================] - 16s 198ms/step - loss: 0.0014\n",
      "Epoch 13/100\n",
      "83/83 [==============================] - 17s 201ms/step - loss: 0.0015\n",
      "Epoch 14/100\n",
      "83/83 [==============================] - 17s 206ms/step - loss: 0.0014\n",
      "Epoch 15/100\n",
      "83/83 [==============================] - 17s 207ms/step - loss: 0.0015\n",
      "Epoch 16/100\n",
      "83/83 [==============================] - 17s 207ms/step - loss: 0.0014\n",
      "Epoch 17/100\n",
      "83/83 [==============================] - 17s 207ms/step - loss: 0.0013\n",
      "Epoch 18/100\n",
      "83/83 [==============================] - 17s 207ms/step - loss: 0.0013\n",
      "Epoch 19/100\n",
      "83/83 [==============================] - 17s 208ms/step - loss: 0.0013\n",
      "Epoch 20/100\n",
      "83/83 [==============================] - 17s 206ms/step - loss: 0.0014\n",
      "Epoch 21/100\n",
      "83/83 [==============================] - 17s 207ms/step - loss: 0.0011\n",
      "Epoch 22/100\n",
      "83/83 [==============================] - 18s 214ms/step - loss: 0.0012\n",
      "Epoch 23/100\n",
      "83/83 [==============================] - 17s 207ms/step - loss: 0.0011\n",
      "Epoch 24/100\n",
      "83/83 [==============================] - 17s 207ms/step - loss: 0.0011\n",
      "Epoch 25/100\n",
      "83/83 [==============================] - 17s 208ms/step - loss: 0.0010\n",
      "Epoch 26/100\n",
      "83/83 [==============================] - 17s 207ms/step - loss: 0.0011\n",
      "Epoch 27/100\n",
      "83/83 [==============================] - 17s 207ms/step - loss: 0.0012\n",
      "Epoch 28/100\n",
      "83/83 [==============================] - 17s 207ms/step - loss: 0.00100s - loss: 0.00\n",
      "Epoch 29/100\n",
      "83/83 [==============================] - 17s 208ms/step - loss: 0.0011\n",
      "Epoch 30/100\n",
      "83/83 [==============================] - 17s 207ms/step - loss: 0.00113s - los - ETA: 1s - lo\n",
      "Epoch 31/100\n",
      "83/83 [==============================] - 17s 207ms/step - loss: 0.0010: 0s - loss: 0\n",
      "Epoch 32/100\n",
      "83/83 [==============================] - 17s 207ms/step - loss: 0.0010\n",
      "Epoch 33/100\n",
      "83/83 [==============================] - 17s 207ms/step - loss: 9.9794e-04\n",
      "Epoch 34/100\n",
      "83/83 [==============================] - 17s 208ms/step - loss: 9.4978e-043s -\n",
      "Epoch 35/100\n",
      "83/83 [==============================] - 17s 207ms/step - loss: 9.0599e-04\n",
      "Epoch 36/100\n",
      "83/83 [==============================] - 17s 208ms/step - loss: 9.1269e-04\n",
      "Epoch 37/100\n",
      "83/83 [==============================] - 17s 207ms/step - loss: 9.6410e-04\n",
      "Epoch 38/100\n",
      "83/83 [==============================] - 17s 207ms/step - loss: 9.3009e-04\n",
      "Epoch 39/100\n",
      "83/83 [==============================] - 17s 206ms/step - loss: 8.2335e-04\n",
      "Epoch 40/100\n",
      "83/83 [==============================] - 17s 206ms/step - loss: 8.4692e-04\n",
      "Epoch 41/100\n",
      "83/83 [==============================] - 17s 206ms/step - loss: 8.8419e-04\n",
      "Epoch 42/100\n",
      "83/83 [==============================] - 17s 206ms/step - loss: 8.2864e-04\n",
      "Epoch 43/100\n",
      "83/83 [==============================] - 17s 207ms/step - loss: 8.7027e-04\n",
      "Epoch 44/100\n",
      "83/83 [==============================] - 17s 209ms/step - loss: 8.1711e-04\n",
      "Epoch 45/100\n",
      "83/83 [==============================] - 17s 206ms/step - loss: 9.5137e-04\n",
      "Epoch 46/100\n",
      "83/83 [==============================] - 17s 208ms/step - loss: 8.2251e-04\n",
      "Epoch 47/100\n",
      "83/83 [==============================] - 17s 207ms/step - loss: 9.4794e-04\n",
      "Epoch 48/100\n",
      "83/83 [==============================] - 17s 209ms/step - loss: 7.8622e-04\n",
      "Epoch 49/100\n",
      "83/83 [==============================] - 17s 206ms/step - loss: 7.9195e-04\n",
      "Epoch 50/100\n",
      "83/83 [==============================] - 17s 207ms/step - loss: 8.9527e-041s - loss: 8. - ETA: 0s - loss: 8.9650e-\n",
      "Epoch 51/100\n",
      "83/83 [==============================] - 17s 208ms/step - loss: 7.6128e-04\n",
      "Epoch 52/100\n",
      "83/83 [==============================] - 17s 208ms/step - loss: 8.2989e-04\n",
      "Epoch 53/100\n",
      "83/83 [==============================] - 17s 207ms/step - loss: 7.3309e-04\n",
      "Epoch 54/100\n",
      "83/83 [==============================] - 17s 207ms/step - loss: 7.8918e-04\n",
      "Epoch 55/100\n",
      "83/83 [==============================] - 17s 208ms/step - loss: 7.9369e-04\n",
      "Epoch 56/100\n",
      "83/83 [==============================] - 17s 209ms/step - loss: 7.9427e-04\n",
      "Epoch 57/100\n",
      "83/83 [==============================] - 17s 208ms/step - loss: 7.7113e-04\n",
      "Epoch 58/100\n",
      "83/83 [==============================] - 17s 208ms/step - loss: 7.9375e-04\n",
      "Epoch 59/100\n",
      "83/83 [==============================] - 17s 209ms/step - loss: 7.4734e-04\n",
      "Epoch 60/100\n",
      "83/83 [==============================] - 17s 208ms/step - loss: 7.4506e-04\n",
      "Epoch 61/100\n",
      "83/83 [==============================] - 17s 208ms/step - loss: 7.6946e-04\n",
      "Epoch 62/100\n",
      "83/83 [==============================] - 17s 207ms/step - loss: 7.4450e-04\n",
      "Epoch 63/100\n",
      "83/83 [==============================] - 17s 207ms/step - loss: 7.9764e-04\n",
      "Epoch 64/100\n",
      "83/83 [==============================] - 17s 207ms/step - loss: 6.8806e-04\n",
      "Epoch 65/100\n",
      "83/83 [==============================] - 17s 208ms/step - loss: 6.6769e-04\n",
      "Epoch 66/100\n",
      "83/83 [==============================] - 17s 207ms/step - loss: 7.3105e-04\n",
      "Epoch 67/100\n",
      "83/83 [==============================] - 17s 208ms/step - loss: 8.2030e-04\n",
      "Epoch 68/100\n",
      "83/83 [==============================] - 17s 207ms/step - loss: 7.1232e-04\n",
      "Epoch 69/100\n",
      "83/83 [==============================] - 17s 207ms/step - loss: 7.1037e-042s - l\n",
      "Epoch 70/100\n",
      "83/83 [==============================] - 17s 208ms/step - loss: 7.4390e-04TA: 0s - loss: 7.4967e\n",
      "Epoch 71/100\n",
      "83/83 [==============================] - 17s 210ms/step - loss: 6.3403e-04\n",
      "Epoch 72/100\n",
      "83/83 [==============================] - 17s 208ms/step - loss: 6.5791e-04\n",
      "Epoch 73/100\n",
      "83/83 [==============================] - 17s 209ms/step - loss: 6.7390e-04\n",
      "Epoch 74/100\n",
      "83/83 [==============================] - 17s 208ms/step - loss: 6.5892e-04\n",
      "Epoch 75/100\n",
      "83/83 [==============================] - 17s 208ms/step - loss: 7.5866e-04\n",
      "Epoch 76/100\n",
      "83/83 [==============================] - 17s 209ms/step - loss: 6.7430e-04\n",
      "Epoch 77/100\n",
      "83/83 [==============================] - 17s 206ms/step - loss: 6.8313e-04\n",
      "Epoch 78/100\n",
      "83/83 [==============================] - 17s 207ms/step - loss: 7.6728e-04\n",
      "Epoch 79/100\n",
      "83/83 [==============================] - 17s 208ms/step - loss: 6.8548e-04\n",
      "Epoch 80/100\n",
      "83/83 [==============================] - 17s 207ms/step - loss: 6.9742e-04\n",
      "Epoch 81/100\n",
      "83/83 [==============================] - 17s 207ms/step - loss: 6.7650e-04\n",
      "Epoch 82/100\n",
      "83/83 [==============================] - 17s 207ms/step - loss: 6.5970e-04\n",
      "Epoch 83/100\n",
      "83/83 [==============================] - 17s 207ms/step - loss: 6.7828e-04\n",
      "Epoch 84/100\n",
      "83/83 [==============================] - 17s 206ms/step - loss: 6.5598e-04\n",
      "Epoch 85/100\n",
      "83/83 [==============================] - 17s 210ms/step - loss: 6.7222e-04\n",
      "Epoch 86/100\n",
      "83/83 [==============================] - 17s 208ms/step - loss: 6.3756e-04\n",
      "Epoch 87/100\n",
      "83/83 [==============================] - 17s 210ms/step - loss: 6.3991e-042s - loss:\n",
      "Epoch 88/100\n",
      "83/83 [==============================] - 17s 208ms/step - loss: 6.9495e-04\n",
      "Epoch 89/100\n",
      "83/83 [==============================] - 17s 207ms/step - loss: 6.4376e-04\n",
      "Epoch 90/100\n",
      "83/83 [==============================] - 17s 209ms/step - loss: 6.7975e-04\n",
      "Epoch 91/100\n",
      "83/83 [==============================] - 17s 206ms/step - loss: 6.0894e-04\n",
      "Epoch 92/100\n",
      "83/83 [==============================] - 17s 207ms/step - loss: 6.2078e-04\n",
      "Epoch 93/100\n"
     ]
    },
    {
     "name": "stdout",
     "output_type": "stream",
     "text": [
      "83/83 [==============================] - 17s 206ms/step - loss: 6.3689e-042s - loss:\n",
      "Epoch 94/100\n",
      "83/83 [==============================] - 17s 206ms/step - loss: 6.1054e-04\n",
      "Epoch 95/100\n",
      "83/83 [==============================] - 18s 212ms/step - loss: 5.5005e-04\n",
      "Epoch 96/100\n",
      "83/83 [==============================] - 17s 208ms/step - loss: 6.6040e-04\n",
      "Epoch 97/100\n",
      "83/83 [==============================] - 17s 207ms/step - loss: 7.1247e-04\n",
      "Epoch 98/100\n",
      "83/83 [==============================] - 17s 209ms/step - loss: 6.2726e-041s - loss: 6.\n",
      "Epoch 99/100\n",
      "83/83 [==============================] - 17s 207ms/step - loss: 6.8065e-04\n",
      "Epoch 100/100\n",
      "83/83 [==============================] - 17s 206ms/step - loss: 5.7015e-04\n"
     ]
    },
    {
     "data": {
      "text/plain": [
       "<tensorflow.python.keras.callbacks.History at 0x7f4379903820>"
      ]
     },
     "execution_count": 52,
     "metadata": {},
     "output_type": "execute_result"
    }
   ],
   "source": [
    "model.compile(optimizer='adam', loss='mean_squared_error')\n",
    "model.fit(X_train, y_train, epochs=100, batch_size=32)"
   ]
  },
  {
   "cell_type": "code",
   "execution_count": null,
   "metadata": {},
   "outputs": [],
   "source": []
  },
  {
   "cell_type": "markdown",
   "metadata": {},
   "source": [
    "# Prediction"
   ]
  },
  {
   "cell_type": "code",
   "execution_count": 87,
   "metadata": {},
   "outputs": [],
   "source": [
    "y_pred = model.predict(X_test)"
   ]
  },
  {
   "cell_type": "markdown",
   "metadata": {},
   "source": [
    "print(y_pred)"
   ]
  },
  {
   "cell_type": "code",
   "execution_count": 88,
   "metadata": {},
   "outputs": [
    {
     "data": {
      "text/plain": [
       "array([6.70521106e-04, 6.60997142e-04, 6.89500819e-04, 6.61787432e-04,\n",
       "       3.36102685e-08])"
      ]
     },
     "execution_count": 88,
     "metadata": {},
     "output_type": "execute_result"
    }
   ],
   "source": [
    "scaler.scale_"
   ]
  },
  {
   "cell_type": "code",
   "execution_count": 89,
   "metadata": {},
   "outputs": [
    {
     "data": {
      "text/plain": [
       "1491.3773646373481"
      ]
     },
     "execution_count": 89,
     "metadata": {},
     "output_type": "execute_result"
    }
   ],
   "source": [
    "scale = 1/6.70521106e-04\n",
    "scale"
   ]
  },
  {
   "cell_type": "code",
   "execution_count": 90,
   "metadata": {},
   "outputs": [],
   "source": [
    "y_pred = y_pred*scale\n",
    "y_test = y_test*scale"
   ]
  },
  {
   "cell_type": "markdown",
   "metadata": {},
   "source": [
    "print(y_pred)"
   ]
  },
  {
   "cell_type": "markdown",
   "metadata": {},
   "source": [
    "print(y_test)"
   ]
  },
  {
   "cell_type": "markdown",
   "metadata": {},
   "source": [
    "# Visualization "
   ]
  },
  {
   "cell_type": "code",
   "execution_count": null,
   "metadata": {},
   "outputs": [],
   "source": [
    "# Visualising the results\n",
    "plt.figure(figsize=(14,5))\n",
    "plt.plot(y_test, color = 'red', label = 'Actual Google Stock Price')\n",
    "plt.plot(y_pred, color = 'blue', label = 'Predicted Google Stock Price')\n",
    "plt.title('Google Stock Price Prediction')\n",
    "plt.xlabel('Time')\n",
    "plt.ylabel('Google Stock Price')\n",
    "plt.legend()\n",
    "plt.show()"
   ]
  },
  {
   "cell_type": "code",
   "execution_count": null,
   "metadata": {},
   "outputs": [],
   "source": []
  },
  {
   "cell_type": "code",
   "execution_count": null,
   "metadata": {},
   "outputs": [],
   "source": []
  }
 ],
 "metadata": {
  "kernelspec": {
   "display_name": "Python 3",
   "language": "python",
   "name": "python3"
  },
  "language_info": {
   "codemirror_mode": {
    "name": "ipython",
    "version": 3
   },
   "file_extension": ".py",
   "mimetype": "text/x-python",
   "name": "python",
   "nbconvert_exporter": "python",
   "pygments_lexer": "ipython3",
   "version": "3.8.10"
  }
 },
 "nbformat": 4,
 "nbformat_minor": 2
}
